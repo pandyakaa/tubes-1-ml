{
 "cells": [
  {
   "cell_type": "markdown",
   "metadata": {},
   "source": [
    "1. Tulislah script dalam bahasa python pada satu notebook untuk melakukan task berikut ini:<br/>\n",
    "a. **Membaca dataset standar iris dan dataset play-tennis**"
   ]
  },
  {
   "cell_type": "code",
   "execution_count": 4,
   "metadata": {},
   "outputs": [],
   "source": [
    "from sklearn.datasets import load_iris\n",
    "iris = load_iris()"
   ]
  },
  {
   "cell_type": "code",
   "execution_count": 5,
   "metadata": {},
   "outputs": [],
   "source": [
    "import pandas as pd\n",
    "play_tennis = pd.read_csv(\"play_tennis.csv\")"
   ]
  },
  {
   "cell_type": "markdown",
   "metadata": {},
   "source": [
    "b. **Melakukan pembelajaran DTL**"
   ]
  },
  {
   "cell_type": "markdown",
   "metadata": {},
   "source": [
    "### iris\n",
    "- Dengan DecisionTreeClassifier"
   ]
  },
  {
   "cell_type": "code",
   "execution_count": 6,
   "metadata": {},
   "outputs": [
    {
     "name": "stdout",
     "output_type": "stream",
     "text": [
      "|--- petal width (cm) <= 0.80\n",
      "|   |--- class: 0\n",
      "|--- petal width (cm) >  0.80\n",
      "|   |--- petal width (cm) <= 1.75\n",
      "|   |   |--- petal length (cm) <= 4.95\n",
      "|   |   |   |--- petal width (cm) <= 1.65\n",
      "|   |   |   |   |--- class: 1\n",
      "|   |   |   |--- petal width (cm) >  1.65\n",
      "|   |   |   |   |--- class: 2\n",
      "|   |   |--- petal length (cm) >  4.95\n",
      "|   |   |   |--- petal width (cm) <= 1.55\n",
      "|   |   |   |   |--- class: 2\n",
      "|   |   |   |--- petal width (cm) >  1.55\n",
      "|   |   |   |   |--- sepal length (cm) <= 6.95\n",
      "|   |   |   |   |   |--- class: 1\n",
      "|   |   |   |   |--- sepal length (cm) >  6.95\n",
      "|   |   |   |   |   |--- class: 2\n",
      "|   |--- petal width (cm) >  1.75\n",
      "|   |   |--- petal length (cm) <= 4.85\n",
      "|   |   |   |--- sepal length (cm) <= 5.95\n",
      "|   |   |   |   |--- class: 1\n",
      "|   |   |   |--- sepal length (cm) >  5.95\n",
      "|   |   |   |   |--- class: 2\n",
      "|   |   |--- petal length (cm) >  4.85\n",
      "|   |   |   |--- class: 2\n",
      "\n"
     ]
    }
   ],
   "source": [
    "from sklearn.tree import DecisionTreeClassifier\n",
    "from sklearn.tree.export import export_text\n",
    "decision_tree = DecisionTreeClassifier(criterion='entropy', random_state=1)\n",
    "decision_tree = decision_tree.fit(iris.data, iris.target)\n",
    "r = export_text(decision_tree, feature_names=iris['feature_names'])\n",
    "print(r)"
   ]
  },
  {
   "cell_type": "markdown",
   "metadata": {},
   "source": [
    "- Dengan Id3Estimator"
   ]
  },
  {
   "cell_type": "code",
   "execution_count": 24,
   "metadata": {},
   "outputs": [
    {
     "name": "stdout",
     "output_type": "stream",
     "text": [
      "\n",
      "petal length (cm) <=2.45: 0 (50) \n",
      "petal length (cm) >2.45\n",
      "|   petal width (cm) <=1.75\n",
      "|   |   sepal length (cm) <=7.10\n",
      "|   |   |   sepal width (cm) <=2.85: 1 (27/4) \n",
      "|   |   |   sepal width (cm) >2.85: 1 (22) \n",
      "|   |   sepal length (cm) >7.10: 2 (1) \n",
      "|   petal width (cm) >1.75\n",
      "|   |   sepal length (cm) <=5.95\n",
      "|   |   |   sepal width (cm) <=3.10: 2 (6) \n",
      "|   |   |   sepal width (cm) >3.10: 1 (1) \n",
      "|   |   sepal length (cm) >5.95: 2 (39) \n",
      "\n"
     ]
    }
   ],
   "source": [
    "from id3 import Id3Estimator\n",
    "from id3 import export_text as export_text_id3\n",
    "estimator = Id3Estimator()\n",
    "estimator = estimator.fit(iris.data, iris.target)\n",
    "r = export_text_id3(estimator.tree_, feature_names=iris['feature_names'])\n",
    "print(r)"
   ]
  },
  {
   "cell_type": "markdown",
   "metadata": {},
   "source": [
    "### Play tennis\n",
    "- Dengan DecisionTreeClassifier"
   ]
  },
  {
   "cell_type": "code",
   "execution_count": 7,
   "metadata": {},
   "outputs": [],
   "source": [
    "play_tennis_data = play_tennis.drop(\"play\",axis=1).drop(\"day\",axis=1)\n",
    "play_tennis_target = play_tennis.play"
   ]
  },
  {
   "cell_type": "code",
   "execution_count": 8,
   "metadata": {},
   "outputs": [],
   "source": [
    "from sklearn import preprocessing\n",
    "le = preprocessing.LabelEncoder()\n",
    "play_tennis_data = play_tennis_data.apply(le.fit_transform)"
   ]
  },
  {
   "cell_type": "code",
   "execution_count": 9,
   "metadata": {},
   "outputs": [
    {
     "name": "stdout",
     "output_type": "stream",
     "text": [
      "|--- outlook <= 0.50\n",
      "|   |--- class: Yes\n",
      "|--- outlook >  0.50\n",
      "|   |--- humidity <= 0.50\n",
      "|   |   |--- outlook <= 1.50\n",
      "|   |   |   |--- wind <= 0.50\n",
      "|   |   |   |   |--- class: No\n",
      "|   |   |   |--- wind >  0.50\n",
      "|   |   |   |   |--- class: Yes\n",
      "|   |   |--- outlook >  1.50\n",
      "|   |   |   |--- class: No\n",
      "|   |--- humidity >  0.50\n",
      "|   |   |--- wind <= 0.50\n",
      "|   |   |   |--- outlook <= 1.50\n",
      "|   |   |   |   |--- class: No\n",
      "|   |   |   |--- outlook >  1.50\n",
      "|   |   |   |   |--- class: Yes\n",
      "|   |   |--- wind >  0.50\n",
      "|   |   |   |--- class: Yes\n",
      "\n"
     ]
    }
   ],
   "source": [
    "from sklearn.tree import DecisionTreeClassifier\n",
    "from sklearn.tree.export import export_text\n",
    "decision_tree_play = DecisionTreeClassifier(criterion='entropy', random_state=1)\n",
    "decision_tree_play = decision_tree.fit(play_tennis_data, play_tennis_target)\n",
    "r = export_text(decision_tree_play, feature_names=pd.array(play_tennis_data.columns))\n",
    "print(r)"
   ]
  },
  {
   "cell_type": "markdown",
   "metadata": {},
   "source": [
    "- Dengan Id3Estimator"
   ]
  },
  {
   "cell_type": "code",
   "execution_count": 25,
   "metadata": {},
   "outputs": [
    {
     "name": "stdout",
     "output_type": "stream",
     "text": [
      "\n",
      "outlook <=0.50: Yes (4) \n",
      "outlook >0.50\n",
      "|   humidity <=0.50\n",
      "|   |   temp <=1.50: No (2) \n",
      "|   |   temp >1.50\n",
      "|   |   |   wind <=0.50: No (1) \n",
      "|   |   |   wind >0.50: No (1/1) \n",
      "|   humidity >0.50\n",
      "|   |   wind <=0.50\n",
      "|   |   |   temp <=1.00: No (1) \n",
      "|   |   |   temp >1.00: Yes (1) \n",
      "|   |   wind >0.50: Yes (3) \n",
      "\n"
     ]
    }
   ],
   "source": [
    "play_tennis_estimator = Id3Estimator()\n",
    "play_tennis_estimator = estimator.fit(play_tennis_data, play_tennis_target)\n",
    "r = export_text_id3(estimator.tree_, feature_names=pd.array(play_tennis_data.columns))\n",
    "print(r)"
   ]
  }
 ],
 "metadata": {
  "kernelspec": {
   "display_name": "Python 3",
   "language": "python",
   "name": "python3"
  },
  "language_info": {
   "codemirror_mode": {
    "name": "ipython",
    "version": 3
   },
   "file_extension": ".py",
   "mimetype": "text/x-python",
   "name": "python",
   "nbconvert_exporter": "python",
   "pygments_lexer": "ipython3",
   "version": "3.7.2"
  }
 },
 "nbformat": 4,
 "nbformat_minor": 2
}
