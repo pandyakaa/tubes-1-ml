{
 "cells": [
  {
   "cell_type": "code",
   "execution_count": 10,
   "metadata": {},
   "outputs": [],
   "source": [
    "import pickle\n",
    "import numpy as np\n",
    "from sklearn.utils import shuffle\n",
    "from clf.mlp import MyMlp\n",
    "from clf.c45 import C45\n",
    "from clf.utils import read_csv, scale_data\n",
    "from clf.c45_numeric_handler import process_numeric"
   ]
  },
  {
   "cell_type": "code",
   "execution_count": 19,
   "metadata": {},
   "outputs": [],
   "source": [
    "# read data\n",
    "data = read_csv('../Bagian B/datasets/play_tennis.csv')\n",
    "label = data[0, 1:-1].tolist()\n",
    "x = data[1:, 1:-1]\n",
    "target = data[1:, -1:].flatten()"
   ]
  },
  {
   "cell_type": "code",
   "execution_count": 25,
   "metadata": {},
   "outputs": [],
   "source": [
    "# train model\n",
    "c45_model = C45()\n",
    "c45_model.label = label\n",
    "c45_model.fit(x, target)"
   ]
  },
  {
   "cell_type": "code",
   "execution_count": 26,
   "metadata": {},
   "outputs": [],
   "source": [
    "# save model\n",
    "filename = \"C45_Model.pkl\"\n",
    "with open(filename, 'wb') as file:\n",
    "    pickle.dump(c45_model, file)"
   ]
  },
  {
   "cell_type": "code",
   "execution_count": 27,
   "metadata": {},
   "outputs": [
    {
     "data": {
      "text/plain": [
       "<clf.c45.C45 at 0xa1c9a1908>"
      ]
     },
     "execution_count": 27,
     "metadata": {},
     "output_type": "execute_result"
    }
   ],
   "source": [
    "# load model\n",
    "with open(filename, 'rb') as file:  \n",
    "    c45_model = pickle.load(file)\n",
    "\n",
    "c45_model"
   ]
  }
 ],
 "metadata": {
  "kernelspec": {
   "display_name": "Python 3",
   "language": "python",
   "name": "python3"
  },
  "language_info": {
   "codemirror_mode": {
    "name": "ipython",
    "version": 3
   },
   "file_extension": ".py",
   "mimetype": "text/x-python",
   "name": "python",
   "nbconvert_exporter": "python",
   "pygments_lexer": "ipython3",
   "version": "3.7.3"
  }
 },
 "nbformat": 4,
 "nbformat_minor": 2
}
