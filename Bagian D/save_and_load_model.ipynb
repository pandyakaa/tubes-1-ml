{
 "cells": [
  {
   "cell_type": "code",
   "execution_count": 10,
   "metadata": {},
   "outputs": [],
   "source": [
    "import pickle\n",
    "import numpy as np\n",
    "from sklearn.utils import shuffle\n",
    "from clf.mlp import MyMlp\n",
    "from clf.c45 import C45\n",
    "from clf.utils import read_csv, scale_data\n",
    "from clf.c45_numeric_handler import process_numeric"
   ]
  },
  {
   "cell_type": "code",
   "execution_count": 42,
   "metadata": {},
   "outputs": [],
   "source": [
    "data = read_csv('../Bagian B/datasets/iris.csv')\n",
    "label = data[0, 0:-1].tolist()\n",
    "X = data[1:, 0:-1]\n",
    "y = data[1:, -1:].flatten()\n",
    "x_temp = process_numeric(np.vectorize(str)(X), y)"
   ]
  },
  {
   "cell_type": "code",
   "execution_count": 43,
   "metadata": {},
   "outputs": [],
   "source": [
    "# train model\n",
    "c45_model = C45()\n",
    "c45_model.label = label\n",
    "c45_model.fit(x_temp, y)"
   ]
  },
  {
   "cell_type": "code",
   "execution_count": 44,
   "metadata": {},
   "outputs": [],
   "source": [
    "# save model\n",
    "filename = \"C45_Model.pkl\"\n",
    "with open(filename, 'wb') as file:\n",
    "    pickle.dump(c45_model, file)"
   ]
  },
  {
   "cell_type": "code",
   "execution_count": null,
   "metadata": {},
   "outputs": [],
   "source": []
  },
  {
   "cell_type": "code",
   "execution_count": 27,
   "metadata": {},
   "outputs": [
    {
     "data": {
      "text/plain": [
       "<clf.c45.C45 at 0xa1c9a1908>"
      ]
     },
     "execution_count": 27,
     "metadata": {},
     "output_type": "execute_result"
    }
   ],
   "source": [
    "# load model\n",
    "with open(filename, 'rb') as file:  \n",
    "    c45_model = pickle.load(file)\n",
    "\n",
    "c45_model"
   ]
  },
  {
   "cell_type": "code",
   "execution_count": 28,
   "metadata": {},
   "outputs": [
    {
     "data": {
      "text/plain": [
       "array([['day', 'outlook', 'temp', 'humidity', 'wind', 'play'],\n",
       "       ['D1', 'Sunny', 'Hot', 'High', 'Weak', 'No'],\n",
       "       ['D2', 'Sunny', 'Hot', 'High', 'Strong', 'No'],\n",
       "       ['D3', 'Overcast', 'Hot', 'High', 'Weak', 'Yes'],\n",
       "       ['D4', 'Rain', 'Mild', 'High', 'Weak', 'Yes'],\n",
       "       ['D5', 'Rain', 'Cool', 'Normal', 'Weak', 'Yes'],\n",
       "       ['D6', 'Rain', 'Cool', 'Normal', 'Strong', 'No'],\n",
       "       ['D7', 'Overcast', 'Cool', 'Normal', 'Strong', 'Yes'],\n",
       "       ['D8', 'Sunny', 'Mild', 'High', 'Weak', 'No'],\n",
       "       ['D9', 'Sunny', 'Cool', 'Normal', 'Weak', 'Yes'],\n",
       "       ['D10', 'Rain', 'Mild', 'Normal', 'Weak', 'Yes'],\n",
       "       ['D11', 'Sunny', 'Mild', 'Normal', 'Strong', 'Yes'],\n",
       "       ['D12', 'Overcast', 'Mild', 'High', 'Strong', 'Yes'],\n",
       "       ['D13', 'Overcast', 'Hot', 'Normal', 'Weak', 'Yes'],\n",
       "       ['D14', 'Rain', 'Mild', 'High', 'Strong', 'No']], dtype='<U8')"
      ]
     },
     "execution_count": 28,
     "metadata": {},
     "output_type": "execute_result"
    }
   ],
   "source": [
    "data"
   ]
  },
  {
   "cell_type": "code",
   "execution_count": null,
   "metadata": {},
   "outputs": [],
   "source": []
  }
 ],
 "metadata": {
  "kernelspec": {
   "display_name": "Python 3",
   "language": "python",
   "name": "python3"
  },
  "language_info": {
   "codemirror_mode": {
    "name": "ipython",
    "version": 3
   },
   "file_extension": ".py",
   "mimetype": "text/x-python",
   "name": "python",
   "nbconvert_exporter": "python",
   "pygments_lexer": "ipython3",
   "version": "3.7.3"
  }
 },
 "nbformat": 4,
 "nbformat_minor": 2
}
