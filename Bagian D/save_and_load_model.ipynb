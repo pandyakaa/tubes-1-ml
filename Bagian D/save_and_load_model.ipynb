{
 "cells": [
  {
   "cell_type": "code",
   "execution_count": 10,
   "metadata": {},
   "outputs": [],
   "source": [
    "import pickle\n",
    "import numpy as np\n",
    "from sklearn.utils import shuffle\n",
    "from clf.mlp import MyMlp\n",
    "from clf.c45 import C45\n",
    "from clf.utils import read_csv, scale_data\n",
    "from clf.c45_numeric_handler import process_numeric"
   ]
  },
  {
   "cell_type": "code",
   "execution_count": 42,
   "metadata": {},
   "outputs": [],
   "source": [
    "data = read_csv('../Bagian B/datasets/iris.csv')\n",
    "label = data[0, 0:-1].tolist()\n",
    "X = data[1:, 0:-1]\n",
    "y = data[1:, -1:].flatten()\n",
    "x_temp = process_numeric(np.vectorize(str)(X), y)"
   ]
  },
  {
   "cell_type": "code",
   "execution_count": 43,
   "metadata": {},
   "outputs": [],
   "source": [
    "# train model\n",
    "c45_model = C45()\n",
    "c45_model.label = label\n",
    "c45_model.fit(x_temp, y)"
   ]
  },
  {
   "cell_type": "code",
   "execution_count": 44,
   "metadata": {},
   "outputs": [],
   "source": [
    "# save model\n",
    "filename = \"C45_Model.pkl\"\n",
    "with open(filename, 'wb') as file:\n",
    "    pickle.dump(c45_model, file)"
   ]
  },
  {
   "cell_type": "code",
   "execution_count": 45,
   "metadata": {},
   "outputs": [
    {
     "data": {
      "text/plain": [
       "<clf.c45.C45 at 0xa1d0f0cc0>"
      ]
     },
     "execution_count": 45,
     "metadata": {},
     "output_type": "execute_result"
    }
   ],
   "source": [
    "# load model\n",
    "with open(filename, 'rb') as file:  \n",
    "    c45_model = pickle.load(file)\n",
    "\n",
    "c45_model"
   ]
  },
  {
   "cell_type": "code",
   "execution_count": 53,
   "metadata": {},
   "outputs": [
    {
     "name": "stdout",
     "output_type": "stream",
     "text": [
      "4\n",
      "3\n"
     ]
    }
   ],
   "source": [
    "# myMLP\n",
    "input_layer = len(x_temp[0])\n",
    "print(input_layer)\n",
    "output_layer = len(set(y))\n",
    "print(output_layer)\n",
    "hidden_layer = [4,3]\n",
    "print(hidden_layer)"
   ]
  },
  {
   "cell_type": "code",
   "execution_count": null,
   "metadata": {},
   "outputs": [],
   "source": [
    "mlp_model = MyMlp(input_layer, hidden_layer, output_layer, epochs=1000, learning_rate=0.5)\n",
    "mlp_model.fit(x_temp, y)"
   ]
  },
  {
   "cell_type": "code",
   "execution_count": null,
   "metadata": {},
   "outputs": [],
   "source": [
    "# save model\n",
    "mlp_model_filename = \"MLP_Model.pkl\"\n",
    "with open(mlp_model_filename, 'wb') as file:\n",
    "    pickle.dump(mlp_model, file)"
   ]
  },
  {
   "cell_type": "code",
   "execution_count": null,
   "metadata": {},
   "outputs": [],
   "source": [
    "# load model\n",
    "with open(mlp_model_filename, 'rb') as file:  \n",
    "    mlp_model = pickle.load(file)\n",
    "\n",
    "mlp_model"
   ]
  }
 ],
 "metadata": {
  "kernelspec": {
   "display_name": "Python 3",
   "language": "python",
   "name": "python3"
  },
  "language_info": {
   "codemirror_mode": {
    "name": "ipython",
    "version": 3
   },
   "file_extension": ".py",
   "mimetype": "text/x-python",
   "name": "python",
   "nbconvert_exporter": "python",
   "pygments_lexer": "ipython3",
   "version": "3.7.1"
  }
 },
 "nbformat": 4,
 "nbformat_minor": 2
}
