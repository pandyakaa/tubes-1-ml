{
 "cells": [
  {
   "cell_type": "code",
   "execution_count": 1,
   "metadata": {},
   "outputs": [],
   "source": [
    "#Import Standard Libraries\n",
    "import pandas as pd\n",
    "import matplotlib.pyplot as plt\n",
    "\n",
    "import seaborn as sns\n",
    "import numpy as np\n",
    "%matplotlib inline"
   ]
  },
  {
   "cell_type": "markdown",
   "metadata": {},
   "source": [
    "# Custom Function and Transformers"
   ]
  },
  {
   "cell_type": "code",
   "execution_count": 2,
   "metadata": {},
   "outputs": [],
   "source": [
    "#Function to Import Data\n",
    "\n",
    "def import_data(path, drop, sep,dropna=True, drop_duplicates=True):\n",
    "    data = pd.read_csv(path, sep)\n",
    "    print(\"Banyaknya baris dan kolom\", data.shape)\n",
    "    print(\"Banyaknya data duplicate\", data.duplicated().sum())\n",
    "    data = data.drop_duplicates() if drop_duplicates else data\n",
    "    data = data.dropna() if dropna else data\n",
    "    data = data.drop(drop,axis=1)\n",
    "    print(\"Banyaknya data setelah di drop\", data.shape)\n",
    "    #print(data.head())\n",
    "    return data"
   ]
  },
  {
   "cell_type": "code",
   "execution_count": 3,
   "metadata": {},
   "outputs": [],
   "source": [
    "#Function to Extract Input and Output\n",
    "\n",
    "def extract_input_output(data, output):\n",
    "    y = data[output]\n",
    "    x = data.drop(output, axis=1)\n",
    "    #print(x.columns) #optional\n",
    "    #print(y.head()) #optional\n",
    "    return x,y"
   ]
  },
  {
   "cell_type": "code",
   "execution_count": 4,
   "metadata": {},
   "outputs": [],
   "source": [
    "#function to split train test data (default test_size = 0.4)\n",
    "from sklearn.model_selection import train_test_split\n",
    "\n",
    "def train_test_data(x,y, _test_size = 0.4): \n",
    "    x_train, x_test, y_train, y_test = train_test_split(x,y, test_size =_test_size,\n",
    "                                                        random_state =100)\n",
    "   # print(x_train.head(), y_train.head()) #\n",
    "    #print(x_test.head(), y_test.head()) #\n",
    "    return x_train, x_test, y_train, y_test"
   ]
  },
  {
   "cell_type": "code",
   "execution_count": 5,
   "metadata": {},
   "outputs": [],
   "source": [
    "#Function to evaluate score\n",
    "from sklearn.metrics import accuracy_score\n",
    "\n",
    "def scoring(model) :\n",
    "    y_predict = model.predict(x_train)\n",
    "    print(\"Model Score based on training data\")\n",
    "    print(accuracy_score(y_train, y_predict))\n",
    "    y_predict = model.predict(x_test)\n",
    "    print(\"Model Score based on test data\")\n",
    "    print(accuracy_score(y_test, y_predict))\n"
   ]
  },
  {
   "cell_type": "code",
   "execution_count": 6,
   "metadata": {},
   "outputs": [],
   "source": [
    "from sklearn.base import TransformerMixin #gives fit_transform method for free\n",
    "class MyLabelBinarizer(TransformerMixin):\n",
    "    def __init__(self, *args, **kwargs):\n",
    "        self.encoder = LabelBinarizer(*args, **kwargs)\n",
    "    def fit(self, x, y=0):\n",
    "        self.encoder.fit(x)\n",
    "        return self\n",
    "    def transform(self, x, y=0):\n",
    "        return self.encoder.transform(x)"
   ]
  },
  {
   "cell_type": "code",
   "execution_count": 7,
   "metadata": {},
   "outputs": [],
   "source": [
    "from sklearn.base import BaseEstimator, TransformerMixin\n",
    "class DataFrameSelector(BaseEstimator, TransformerMixin):\n",
    "  def __init__(self, attribute_names):\n",
    "    self.attribute_names = attribute_names\n",
    "  def fit(self, X, y=None):\n",
    "    return self\n",
    "  def transform(self, X):\n",
    "    return X[self.attribute_names].values"
   ]
  },
  {
   "cell_type": "markdown",
   "metadata": {},
   "source": [
    "# Visualization Functions"
   ]
  },
  {
   "cell_type": "code",
   "execution_count": 8,
   "metadata": {},
   "outputs": [],
   "source": [
    "#Make sure y_train is balanced\n",
    "def plot_y_balance(y, df) : \n",
    "  ax = sns.countplot(y,label=\"Count\")       # M = 212, B = 357\n",
    "  C, N = y.value_counts()\n",
    "  print('Number of Churned: ',C)\n",
    "  print('Number of Not Churned : ',N) \n",
    "  df.isChurned.value_counts(normalize=True)"
   ]
  },
  {
   "cell_type": "markdown",
   "metadata": {},
   "source": [
    "# Pre Processing Pipeline"
   ]
  },
  {
   "cell_type": "code",
   "execution_count": 9,
   "metadata": {},
   "outputs": [],
   "source": [
    "df = pd.read_csv('../Bagian C/datasets/iris.csv')"
   ]
  },
  {
   "cell_type": "code",
   "execution_count": 10,
   "metadata": {},
   "outputs": [
    {
     "data": {
      "text/html": [
       "<div>\n",
       "<style scoped>\n",
       "    .dataframe tbody tr th:only-of-type {\n",
       "        vertical-align: middle;\n",
       "    }\n",
       "\n",
       "    .dataframe tbody tr th {\n",
       "        vertical-align: top;\n",
       "    }\n",
       "\n",
       "    .dataframe thead th {\n",
       "        text-align: right;\n",
       "    }\n",
       "</style>\n",
       "<table border=\"1\" class=\"dataframe\">\n",
       "  <thead>\n",
       "    <tr style=\"text-align: right;\">\n",
       "      <th></th>\n",
       "      <th>sepal_length</th>\n",
       "      <th>sepal_width</th>\n",
       "      <th>petal_length</th>\n",
       "      <th>petal_width</th>\n",
       "      <th>species</th>\n",
       "    </tr>\n",
       "  </thead>\n",
       "  <tbody>\n",
       "    <tr>\n",
       "      <td>0</td>\n",
       "      <td>5.1</td>\n",
       "      <td>3.5</td>\n",
       "      <td>1.4</td>\n",
       "      <td>0.2</td>\n",
       "      <td>setosa</td>\n",
       "    </tr>\n",
       "    <tr>\n",
       "      <td>1</td>\n",
       "      <td>4.9</td>\n",
       "      <td>3.0</td>\n",
       "      <td>1.4</td>\n",
       "      <td>0.2</td>\n",
       "      <td>setosa</td>\n",
       "    </tr>\n",
       "    <tr>\n",
       "      <td>2</td>\n",
       "      <td>4.7</td>\n",
       "      <td>3.2</td>\n",
       "      <td>1.3</td>\n",
       "      <td>0.2</td>\n",
       "      <td>setosa</td>\n",
       "    </tr>\n",
       "    <tr>\n",
       "      <td>3</td>\n",
       "      <td>4.6</td>\n",
       "      <td>3.1</td>\n",
       "      <td>1.5</td>\n",
       "      <td>0.2</td>\n",
       "      <td>setosa</td>\n",
       "    </tr>\n",
       "    <tr>\n",
       "      <td>4</td>\n",
       "      <td>5.0</td>\n",
       "      <td>3.6</td>\n",
       "      <td>1.4</td>\n",
       "      <td>0.2</td>\n",
       "      <td>setosa</td>\n",
       "    </tr>\n",
       "  </tbody>\n",
       "</table>\n",
       "</div>"
      ],
      "text/plain": [
       "   sepal_length   sepal_width   petal_length   petal_width  species\n",
       "0           5.1           3.5            1.4           0.2   setosa\n",
       "1           4.9           3.0            1.4           0.2   setosa\n",
       "2           4.7           3.2            1.3           0.2   setosa\n",
       "3           4.6           3.1            1.5           0.2   setosa\n",
       "4           5.0           3.6            1.4           0.2   setosa"
      ]
     },
     "execution_count": 10,
     "metadata": {},
     "output_type": "execute_result"
    }
   ],
   "source": [
    "df.head()"
   ]
  },
  {
   "cell_type": "code",
   "execution_count": 11,
   "metadata": {},
   "outputs": [
    {
     "data": {
      "text/plain": [
       "0          setosa\n",
       "1          setosa\n",
       "2          setosa\n",
       "3          setosa\n",
       "4          setosa\n",
       "          ...    \n",
       "145     virginica\n",
       "146     virginica\n",
       "147     virginica\n",
       "148     virginica\n",
       "149     virginica\n",
       "Name:  species, Length: 150, dtype: object"
      ]
     },
     "execution_count": 11,
     "metadata": {},
     "output_type": "execute_result"
    }
   ],
   "source": [
    "df[' species']"
   ]
  },
  {
   "cell_type": "code",
   "execution_count": 12,
   "metadata": {},
   "outputs": [],
   "source": [
    "x, y = extract_input_output(df, ' species')"
   ]
  },
  {
   "cell_type": "code",
   "execution_count": null,
   "metadata": {},
   "outputs": [],
   "source": []
  },
  {
   "cell_type": "code",
   "execution_count": 23,
   "metadata": {},
   "outputs": [],
   "source": [
    "from sklearn.pipeline import Pipeline\n",
    "from sklearn.impute import SimpleImputer\n",
    "from sklearn.preprocessing import LabelBinarizer\n",
    "from sklearn.preprocessing import StandardScaler, OneHotEncoder\n",
    "from sklearn.pipeline import FeatureUnion\n",
    "\n",
    "num_attribs = list(x)\n",
    "\n",
    "\n",
    "preprocessor = Pipeline([\n",
    "#     ('selector', DataFrameSelector(num_attribs)),\n",
    "    ('imputer', SimpleImputer(strategy=\"median\")),\n",
    "    #('attribs_adder', CombinedAttributesAdder()),\n",
    "    ('std_scaler', StandardScaler()),\n",
    "  ])\n",
    "\n",
    "# cat_pipeline = Pipeline([\n",
    "#     ('selector', DataFrameSelector(cat_attribs)),\n",
    "#     ('label_binarizer', MyLabelBinarizer()),\n",
    "#   ])\n",
    "\n",
    "# preprocessor = FeatureUnion(transformer_list=[\n",
    "#     (\"num_pipeline\", num_pipeline),\n",
    "#     (\"cat_pipeline\", cat_pipeline),\n",
    "#   ])"
   ]
  },
  {
   "cell_type": "markdown",
   "metadata": {},
   "source": [
    "# Machine Learning Pipeline"
   ]
  },
  {
   "cell_type": "code",
   "execution_count": 15,
   "metadata": {},
   "outputs": [],
   "source": [
    "from clf.mlp import MyMlp\n",
    "from clf.utils import read_csv, oneHotEncoder, scale_data\n"
   ]
  },
  {
   "cell_type": "code",
   "execution_count": 16,
   "metadata": {},
   "outputs": [
    {
     "name": "stdout",
     "output_type": "stream",
     "text": [
      "4\n",
      "3\n",
      "[4, 3]\n"
     ]
    }
   ],
   "source": [
    "input_layer = len(list(x))\n",
    "print(input_layer)\n",
    "output_layer = len(set(y))\n",
    "print(output_layer)\n",
    "hidden_layer = [4, 3]\n",
    "print(hidden_layer)"
   ]
  },
  {
   "cell_type": "code",
   "execution_count": 17,
   "metadata": {},
   "outputs": [],
   "source": [
    "myclf = MyMlp(input_layer, hidden_layer, output_layer)"
   ]
  },
  {
   "cell_type": "code",
   "execution_count": 18,
   "metadata": {},
   "outputs": [],
   "source": [
    "y_encoded = oneHotEncoder(y)"
   ]
  },
  {
   "cell_type": "code",
   "execution_count": 19,
   "metadata": {},
   "outputs": [
    {
     "name": "stdout",
     "output_type": "stream",
     "text": [
      "Epoch 0... Epoch 1... Epoch 2... Epoch 3... Epoch 4... Epoch 5... Epoch 6... Epoch 7... Epoch 8... Epoch 9... Epoch 10... Epoch 11... Epoch 12... Epoch 13... Epoch 14... Epoch 15... Epoch 16... Epoch 17... Epoch 18... Epoch 19... Epoch 20... Epoch 21... Epoch 22... Epoch 23... Epoch 24... Epoch 25... Epoch 26... Epoch 27... Epoch 28... Epoch 29... Epoch 30... Epoch 31... Epoch 32... Epoch 33... Epoch 34... Epoch 35... Epoch 36... Epoch 37... Epoch 38... Epoch 39... Epoch 40... Epoch 41... Epoch 42... Epoch 43... Epoch 44... Epoch 45... Epoch 46... Epoch 47... Epoch 48... Epoch 49... Epoch 50... Epoch 51... Epoch 52... Epoch 53... Epoch 54... Epoch 55... Epoch 56... Epoch 57... Epoch 58... Epoch 59... Epoch 60... Epoch 61... Epoch 62... Epoch 63... Epoch 64... Epoch 65... Epoch 66... Epoch 67... Epoch 68... Epoch 69... Epoch 70... Epoch 71... Epoch 72... Epoch 73... Epoch 74... Epoch 75... Epoch 76... Epoch 77... Epoch 78... Epoch 79... Epoch 80... Epoch 81... Epoch 82... Epoch 83... Epoch 84... Epoch 85... Epoch 86... Epoch 87... Epoch 88... Epoch 89... Epoch 90... Epoch 91... Epoch 92... Epoch 93... Epoch 94... Epoch 95... Epoch 96... Epoch 97... Epoch 98... Epoch 99... "
     ]
    }
   ],
   "source": [
    "myclf.fit(x.values,y_encoded)"
   ]
  },
  {
   "cell_type": "code",
   "execution_count": 45,
   "metadata": {},
   "outputs": [
    {
     "name": "stdout",
     "output_type": "stream",
     "text": [
      "Epoch 0... Epoch 1... Epoch 2... Epoch 3... Epoch 4... Epoch 5... Epoch 6... Epoch 7... Epoch 8... Epoch 9... Epoch 10... Epoch 11... Epoch 12... Epoch 13... Epoch 14... Epoch 15... Epoch 16... Epoch 17... Epoch 18... Epoch 19... Epoch 20... Epoch 21... Epoch 22... Epoch 23... Epoch 24... Epoch 25... Epoch 26... Epoch 27... Epoch 28... Epoch 29... Epoch 30... Epoch 31... Epoch 32... Epoch 33... Epoch 34... Epoch 35... Epoch 36... Epoch 37... Epoch 38... Epoch 39... Epoch 40... Epoch 41... Epoch 42... Epoch 43... Epoch 44... Epoch 45... Epoch 46... Epoch 47... Epoch 48... Epoch 49... Epoch 50... Epoch 51... Epoch 52... Epoch 53... Epoch 54... Epoch 55... Epoch 56... Epoch 57... Epoch 58... Epoch 59... Epoch 60... Epoch 61... Epoch 62... Epoch 63... Epoch 64... Epoch 65... Epoch 66... Epoch 67... Epoch 68... Epoch 69... Epoch 70... Epoch 71... Epoch 72... Epoch 73... Epoch 74... Epoch 75... Epoch 76... Epoch 77... Epoch 78... Epoch 79... Epoch 80... Epoch 81... Epoch 82... Epoch 83... Epoch 84... Epoch 85... Epoch 86... Epoch 87... Epoch 88... Epoch 89... Epoch 90... Epoch 91... Epoch 92... Epoch 93... Epoch 94... Epoch 95... Epoch 96... Epoch 97... Epoch 98... Epoch 99... Epoch 0... Epoch 1... Epoch 2... Epoch 3... Epoch 4... Epoch 5... Epoch 6... Epoch 7... Epoch 8... Epoch 9... Epoch 10... Epoch 11... Epoch 12... Epoch 13... Epoch 14... Epoch 15... Epoch 16... Epoch 17... Epoch 18... Epoch 19... Epoch 20... Epoch 21... Epoch 22... Epoch 23... Epoch 24... Epoch 25... Epoch 26... Epoch 27... Epoch 28... Epoch 29... Epoch 30... Epoch 31... Epoch 32... Epoch 33... Epoch 34... Epoch 35... Epoch 36... Epoch 37... Epoch 38... Epoch 39... Epoch 40... Epoch 41... Epoch 42... Epoch 43... Epoch 44... Epoch 45... Epoch 46... Epoch 47... Epoch 48... Epoch 49... Epoch 50... Epoch 51... Epoch 52... Epoch 53... Epoch 54... Epoch 55... Epoch 56... Epoch 57... Epoch 58... Epoch 59... Epoch 60... Epoch 61... Epoch 62... Epoch 63... Epoch 64... Epoch 65... Epoch 66... Epoch 67... Epoch 68... Epoch 69... Epoch 70... Epoch 71... Epoch 72... Epoch 73... Epoch 74... Epoch 75... Epoch 76... Epoch 77... Epoch 78... Epoch 79... Epoch 80... Epoch 81... Epoch 82... Epoch 83... Epoch 84... Epoch 85... Epoch 86... Epoch 87... Epoch 88... Epoch 89... Epoch 90... Epoch 91... Epoch 92... Epoch 93... Epoch 94... Epoch 95... Epoch 96... Epoch 97... Epoch 98... Epoch 99... Epoch 0... Epoch 1... Epoch 2... Epoch 3... Epoch 4... Epoch 5... Epoch 6... Epoch 7... Epoch 8... Epoch 9... Epoch 10... Epoch 11... Epoch 12... Epoch 13... Epoch 14... Epoch 15... Epoch 16... Epoch 17... Epoch 18... Epoch 19... Epoch 20... Epoch 21... Epoch 22... Epoch 23... Epoch 24... Epoch 25... Epoch 26... Epoch 27... Epoch 28... Epoch 29... Epoch 30... Epoch 31... Epoch 32... Epoch 33... Epoch 34... Epoch 35... Epoch 36... Epoch 37... Epoch 38... Epoch 39... Epoch 40... Epoch 41... Epoch 42... Epoch 43... Epoch 44... Epoch 45... Epoch 46... Epoch 47... Epoch 48... Epoch 49... Epoch 50... Epoch 51... Epoch 52... Epoch 53... Epoch 54... Epoch 55... Epoch 56... Epoch 57... Epoch 58... Epoch 59... Epoch 60... Epoch 61... Epoch 62... Epoch 63... Epoch 64... Epoch 65... Epoch 66... Epoch 67... Epoch 68... Epoch 69... Epoch 70... Epoch 71... Epoch 72... Epoch 73... Epoch 74... Epoch 75... Epoch 76... Epoch 77... Epoch 78... Epoch 79... Epoch 80... Epoch 81... Epoch 82... Epoch 83... Epoch 84... Epoch 85... Epoch 86... Epoch 87... Epoch 88... Epoch 89... Epoch 90... Epoch 91... Epoch 92... Epoch 93... Epoch 94... Epoch 95... Epoch 96... Epoch 97... Epoch 98... Epoch 99... Epoch 0... Epoch 1... Epoch 2... Epoch 3... Epoch 4... Epoch 5... Epoch 6... Epoch 7... Epoch 8... Epoch 9... Epoch 10... Epoch 11... Epoch 12... Epoch 13... Epoch 14... Epoch 15... Epoch 16... Epoch 17... Epoch 18... Epoch 19... Epoch 20... Epoch 21... Epoch 22... Epoch 23... Epoch 24... Epoch 25... Epoch 26... Epoch 27... Epoch 28... Epoch 29... Epoch 30... Epoch 31... Epoch 32... Epoch 33... Epoch 34... Epoch 35... Epoch 36... Epoch 37... Epoch 38... Epoch 39... Epoch 40... Epoch 41... Epoch 42... Epoch 43... Epoch 44... Epoch 45... Epoch 46... Epoch 47... Epoch 48... Epoch 49... Epoch 50... Epoch 51... Epoch 52... Epoch 53... Epoch 54... Epoch 55... Epoch 56... Epoch 57... Epoch 58... Epoch 59... Epoch 60... Epoch 61... Epoch 62... Epoch 63... Epoch 64... Epoch 65... Epoch 66... Epoch 67... Epoch 68... Epoch 69... Epoch 70... Epoch 71... Epoch 72... Epoch 73... Epoch 74... Epoch 75... Epoch 76... Epoch 77... Epoch 78... Epoch 79... Epoch 80... Epoch 81... Epoch 82... Epoch 83... Epoch 84... Epoch 85... Epoch 86... Epoch 87... Epoch 88... Epoch 89... Epoch 90... Epoch 91... Epoch 92... Epoch 93... Epoch 94... Epoch 95... Epoch 96... Epoch 97... Epoch 98... Epoch 99... Epoch 0... Epoch 1... Epoch 2... Epoch 3... Epoch 4... Epoch 5... Epoch 6... Epoch 7... Epoch 8... Epoch 9... Epoch 10... Epoch 11... Epoch 12... Epoch 13... Epoch 14... Epoch 15... Epoch 16... Epoch 17... Epoch 18... Epoch 19... Epoch 20... Epoch 21... Epoch 22... Epoch 23... Epoch 24... Epoch 25... Epoch 26... Epoch 27... Epoch 28... Epoch 29... Epoch 30... Epoch 31... Epoch 32... Epoch 33... Epoch 34... Epoch 35... Epoch 36... Epoch 37... Epoch 38... Epoch 39... Epoch 40... Epoch 41... Epoch 42... Epoch 43... Epoch 44... Epoch 45... Epoch 46... Epoch 47... Epoch 48... Epoch 49... Epoch 50... Epoch 51... Epoch 52... Epoch 53... Epoch 54... Epoch 55... Epoch 56... Epoch 57... Epoch 58... Epoch 59... Epoch 60... Epoch 61... Epoch 62... Epoch 63... Epoch 64... Epoch 65... Epoch 66... Epoch 67... Epoch 68... Epoch 69... Epoch 70... Epoch 71... Epoch 72... Epoch 73... Epoch 74... Epoch 75... Epoch 76... Epoch 77... Epoch 78... Epoch 79... Epoch 80... Epoch 81... Epoch 82... Epoch 83... Epoch 84... Epoch 85... Epoch 86... Epoch 87... Epoch 88... Epoch 89... Epoch 90... Epoch 91... Epoch 92... Epoch 93... Epoch 94... Epoch 95... Epoch 96... Epoch 97... Epoch 98... Epoch 99... Epoch 0... Epoch 1... Epoch 2... Epoch 3... Epoch 4... Epoch 5... Epoch 6... Epoch 7... Epoch 8... Epoch 9... Epoch 10... Epoch 11... Epoch 12... Epoch 13... Epoch 14... Epoch 15... Epoch 16... Epoch 17... Epoch 18... Epoch 19... Epoch 20... Epoch 21... Epoch 22... Epoch 23... Epoch 24... Epoch 25... Epoch 26... Epoch 27... Epoch 28... Epoch 29... Epoch 30... Epoch 31... Epoch 32... Epoch 33... Epoch 34... Epoch 35... Epoch 36... Epoch 37... Epoch 38... Epoch 39... Epoch 40... Epoch 41... Epoch 42... Epoch 43... Epoch 44... Epoch 45... Epoch 46... Epoch 47... Epoch 48... Epoch 49... Epoch 50... Epoch 51... Epoch 52... Epoch 53... Epoch 54... Epoch 55... Epoch 56... Epoch 57... Epoch 58... Epoch 59... Epoch 60... Epoch 61... Epoch 62... Epoch 63... Epoch 64... Epoch 65... Epoch 66... Epoch 67... Epoch 68... Epoch 69... Epoch 70... Epoch 71... Epoch 72... Epoch 73... Epoch 74... Epoch 75... Epoch 76... Epoch 77... Epoch 78... Epoch 79... Epoch 80... Epoch 81... Epoch 82... Epoch 83... Epoch 84... Epoch 85... Epoch 86... Epoch 87... Epoch 88... Epoch 89... Epoch 90... Epoch 91... Epoch 92... Epoch 93... Epoch 94... Epoch 95... Epoch 96... Epoch 97... Epoch 98... Epoch 99... Epoch 0... Epoch 1... Epoch 2... Epoch 3... Epoch 4... Epoch 5... Epoch 6... Epoch 7... Epoch 8... Epoch 9... Epoch 10... Epoch 11... Epoch 12... Epoch 13... Epoch 14... Epoch 15... Epoch 16... Epoch 17... Epoch 18... Epoch 19... Epoch 20... Epoch 21... Epoch 22... Epoch 23... Epoch 24... Epoch 25... Epoch 26... Epoch 27... Epoch 28... Epoch 29... Epoch 30... Epoch 31... Epoch 32... Epoch 33... Epoch 34... Epoch 35... Epoch 36... Epoch 37... Epoch 38... Epoch 39... Epoch 40... Epoch 41... Epoch 42... Epoch 43... Epoch 44... Epoch 45... Epoch 46... Epoch 47... Epoch 48... Epoch 49... Epoch 50... Epoch 51... Epoch 52... Epoch 53... Epoch 54... Epoch 55... Epoch 56... Epoch 57... Epoch 58... Epoch 59... Epoch 60... Epoch 61... Epoch 62... Epoch 63... Epoch 64... Epoch 65... Epoch 66... Epoch 67... Epoch 68... Epoch 69... Epoch 70... Epoch 71... Epoch 72... Epoch 73... Epoch 74... Epoch 75... Epoch 76... Epoch 77... Epoch 78... Epoch 79... Epoch 80... Epoch 81... Epoch 82... Epoch 83... Epoch 84... Epoch 85... Epoch 86... Epoch 87... Epoch 88... "
     ]
    },
    {
     "name": "stdout",
     "output_type": "stream",
     "text": [
      "Epoch 89... Epoch 90... Epoch 91... Epoch 92... Epoch 93... Epoch 94... Epoch 95... Epoch 96... Epoch 97... Epoch 98... Epoch 99... Epoch 0... Epoch 1... Epoch 2... Epoch 3... Epoch 4... Epoch 5... Epoch 6... Epoch 7... Epoch 8... Epoch 9... Epoch 10... Epoch 11... Epoch 12... Epoch 13... Epoch 14... Epoch 15... Epoch 16... Epoch 17... Epoch 18... Epoch 19... Epoch 20... Epoch 21... Epoch 22... Epoch 23... Epoch 24... Epoch 25... Epoch 26... Epoch 27... Epoch 28... Epoch 29... Epoch 30... Epoch 31... Epoch 32... Epoch 33... Epoch 34... Epoch 35... Epoch 36... Epoch 37... Epoch 38... Epoch 39... Epoch 40... Epoch 41... Epoch 42... Epoch 43... Epoch 44... Epoch 45... Epoch 46... Epoch 47... Epoch 48... Epoch 49... Epoch 50... Epoch 51... Epoch 52... Epoch 53... Epoch 54... Epoch 55... Epoch 56... Epoch 57... Epoch 58... Epoch 59... Epoch 60... Epoch 61... Epoch 62... Epoch 63... Epoch 64... Epoch 65... Epoch 66... Epoch 67... Epoch 68... Epoch 69... Epoch 70... Epoch 71... Epoch 72... Epoch 73... Epoch 74... Epoch 75... Epoch 76... Epoch 77... Epoch 78... Epoch 79... Epoch 80... Epoch 81... Epoch 82... Epoch 83... Epoch 84... Epoch 85... Epoch 86... Epoch 87... Epoch 88... Epoch 89... Epoch 90... Epoch 91... Epoch 92... Epoch 93... Epoch 94... Epoch 95... Epoch 96... Epoch 97... Epoch 98... Epoch 99... Epoch 0... Epoch 1... Epoch 2... Epoch 3... Epoch 4... Epoch 5... Epoch 6... Epoch 7... Epoch 8... Epoch 9... Epoch 10... Epoch 11... Epoch 12... Epoch 13... Epoch 14... Epoch 15... Epoch 16... Epoch 17... Epoch 18... Epoch 19... Epoch 20... Epoch 21... Epoch 22... Epoch 23... Epoch 24... Epoch 25... Epoch 26... Epoch 27... Epoch 28... Epoch 29... Epoch 30... Epoch 31... Epoch 32... Epoch 33... Epoch 34... Epoch 35... Epoch 36... Epoch 37... Epoch 38... Epoch 39... Epoch 40... Epoch 41... Epoch 42... Epoch 43... Epoch 44... Epoch 45... Epoch 46... Epoch 47... Epoch 48... Epoch 49... Epoch 50... Epoch 51... Epoch 52... Epoch 53... Epoch 54... Epoch 55... Epoch 56... Epoch 57... Epoch 58... Epoch 59... Epoch 60... Epoch 61... Epoch 62... Epoch 63... Epoch 64... Epoch 65... Epoch 66... Epoch 67... Epoch 68... Epoch 69... Epoch 70... Epoch 71... Epoch 72... Epoch 73... Epoch 74... Epoch 75... Epoch 76... Epoch 77... Epoch 78... Epoch 79... Epoch 80... Epoch 81... Epoch 82... Epoch 83... Epoch 84... Epoch 85... Epoch 86... Epoch 87... Epoch 88... Epoch 89... Epoch 90... Epoch 91... Epoch 92... Epoch 93... Epoch 94... Epoch 95... Epoch 96... Epoch 97... Epoch 98... Epoch 99... Epoch 0... Epoch 1... Epoch 2... Epoch 3... Epoch 4... Epoch 5... Epoch 6... Epoch 7... Epoch 8... Epoch 9... Epoch 10... Epoch 11... Epoch 12... Epoch 13... Epoch 14... Epoch 15... Epoch 16... Epoch 17... Epoch 18... Epoch 19... Epoch 20... Epoch 21... Epoch 22... Epoch 23... Epoch 24... Epoch 25... Epoch 26... Epoch 27... Epoch 28... Epoch 29... Epoch 30... Epoch 31... Epoch 32... Epoch 33... Epoch 34... Epoch 35... Epoch 36... Epoch 37... Epoch 38... Epoch 39... Epoch 40... Epoch 41... Epoch 42... Epoch 43... Epoch 44... Epoch 45... Epoch 46... Epoch 47... Epoch 48... Epoch 49... Epoch 50... Epoch 51... Epoch 52... Epoch 53... Epoch 54... Epoch 55... Epoch 56... Epoch 57... Epoch 58... Epoch 59... Epoch 60... Epoch 61... Epoch 62... Epoch 63... Epoch 64... Epoch 65... Epoch 66... Epoch 67... Epoch 68... Epoch 69... Epoch 70... Epoch 71... Epoch 72... Epoch 73... Epoch 74... Epoch 75... Epoch 76... Epoch 77... Epoch 78... Epoch 79... Epoch 80... Epoch 81... Epoch 82... Epoch 83... Epoch 84... Epoch 85... Epoch 86... Epoch 87... Epoch 88... Epoch 89... Epoch 90... Epoch 91... Epoch 92... Epoch 93... Epoch 94... Epoch 95... Epoch 96... Epoch 97... Epoch 98... Epoch 99... ===============\n",
      "<clf.mlp.MyMlp object at 0x7f23d2e92d90>\n",
      "[0.         0.         0.         0.         0.         0.\n",
      " 0.33333333 0.         0.         0.        ]\n"
     ]
    }
   ],
   "source": [
    "from sklearn.linear_model import LogisticRegression\n",
    "pipeline = Pipeline([\n",
    "    ('processor', preprocessor), #Step1 - preprocess data\n",
    "    ('clf', LogisticRegression()) #step2 - classifier (default : LogisticRegression )\n",
    "])\n",
    "\n",
    "from sklearn.model_selection import cross_validate\n",
    "\n",
    "from sklearn.svm import SVC\n",
    "from sklearn.linear_model import LogisticRegression\n",
    "from sklearn.svm import SVC\n",
    "from sklearn.neighbors import KNeighborsClassifier\n",
    "from sklearn.tree import DecisionTreeClassifier\n",
    "from sklearn.ensemble import RandomForestClassifier, GradientBoostingClassifier\n",
    "\n",
    "clfs = []\n",
    "clfs.append(myclf)\n",
    "# clfs.append(LogisticRegression())\n",
    "# clfs.append(KNeighborsClassifier(n_neighbors=3))\n",
    "# clfs.append(DecisionTreeClassifier())\n",
    "# clfs.append(RandomForestClassifier())\n",
    "# clfs.append(GradientBoostingClassifier())\n",
    "\n",
    "from sklearn.model_selection import cross_val_score\n",
    "for classifier in clfs:\n",
    "    pipeline.set_params(clf = classifier)\n",
    "    scores = cross_val_score(pipeline, x.values,y_encoded,cv=10, scoring=\"accuracy\")\n",
    "    print(\"===============\")\n",
    "    print(classifier)\n",
    "    print(scores)"
   ]
  },
  {
   "cell_type": "code",
   "execution_count": 42,
   "metadata": {},
   "outputs": [
    {
     "data": {
      "text/plain": [
       "array([[1, 0, 0],\n",
       "       [1, 0, 0],\n",
       "       [1, 0, 0],\n",
       "       [1, 0, 0],\n",
       "       [1, 0, 0],\n",
       "       [1, 0, 0],\n",
       "       [1, 0, 0],\n",
       "       [1, 0, 0],\n",
       "       [1, 0, 0],\n",
       "       [1, 0, 0],\n",
       "       [1, 0, 0],\n",
       "       [1, 0, 0],\n",
       "       [1, 0, 0],\n",
       "       [1, 0, 0],\n",
       "       [1, 0, 0],\n",
       "       [1, 0, 0],\n",
       "       [1, 0, 0],\n",
       "       [1, 0, 0],\n",
       "       [1, 0, 0],\n",
       "       [1, 0, 0],\n",
       "       [1, 0, 0],\n",
       "       [1, 0, 0],\n",
       "       [1, 0, 0],\n",
       "       [1, 0, 0],\n",
       "       [1, 0, 0],\n",
       "       [1, 0, 0],\n",
       "       [1, 0, 0],\n",
       "       [1, 0, 0],\n",
       "       [1, 0, 0],\n",
       "       [1, 0, 0],\n",
       "       [1, 0, 0],\n",
       "       [1, 0, 0],\n",
       "       [1, 0, 0],\n",
       "       [1, 0, 0],\n",
       "       [1, 0, 0],\n",
       "       [1, 0, 0],\n",
       "       [1, 0, 0],\n",
       "       [1, 0, 0],\n",
       "       [1, 0, 0],\n",
       "       [1, 0, 0],\n",
       "       [1, 0, 0],\n",
       "       [1, 0, 0],\n",
       "       [1, 0, 0],\n",
       "       [1, 0, 0],\n",
       "       [1, 0, 0],\n",
       "       [1, 0, 0],\n",
       "       [1, 0, 0],\n",
       "       [1, 0, 0],\n",
       "       [1, 0, 0],\n",
       "       [1, 0, 0],\n",
       "       [0, 1, 0],\n",
       "       [0, 1, 0],\n",
       "       [0, 1, 0],\n",
       "       [0, 1, 0],\n",
       "       [0, 1, 0],\n",
       "       [0, 1, 0],\n",
       "       [0, 1, 0],\n",
       "       [0, 1, 0],\n",
       "       [0, 1, 0],\n",
       "       [0, 1, 0],\n",
       "       [0, 1, 0],\n",
       "       [0, 1, 0],\n",
       "       [0, 1, 0],\n",
       "       [0, 1, 0],\n",
       "       [0, 1, 0],\n",
       "       [0, 1, 0],\n",
       "       [0, 1, 0],\n",
       "       [0, 1, 0],\n",
       "       [0, 1, 0],\n",
       "       [0, 1, 0],\n",
       "       [0, 1, 0],\n",
       "       [0, 1, 0],\n",
       "       [0, 1, 0],\n",
       "       [0, 1, 0],\n",
       "       [0, 1, 0],\n",
       "       [0, 1, 0],\n",
       "       [0, 1, 0],\n",
       "       [0, 1, 0],\n",
       "       [0, 1, 0],\n",
       "       [0, 1, 0],\n",
       "       [0, 1, 0],\n",
       "       [0, 1, 0],\n",
       "       [0, 1, 0],\n",
       "       [0, 1, 0],\n",
       "       [0, 1, 0],\n",
       "       [0, 1, 0],\n",
       "       [0, 1, 0],\n",
       "       [0, 1, 0],\n",
       "       [0, 1, 0],\n",
       "       [0, 1, 0],\n",
       "       [0, 1, 0],\n",
       "       [0, 1, 0],\n",
       "       [0, 1, 0],\n",
       "       [0, 1, 0],\n",
       "       [0, 1, 0],\n",
       "       [0, 1, 0],\n",
       "       [0, 1, 0],\n",
       "       [0, 1, 0],\n",
       "       [0, 1, 0],\n",
       "       [0, 1, 0],\n",
       "       [0, 0, 1],\n",
       "       [0, 0, 1],\n",
       "       [0, 0, 1],\n",
       "       [0, 0, 1],\n",
       "       [0, 0, 1],\n",
       "       [0, 0, 1],\n",
       "       [0, 0, 1],\n",
       "       [0, 0, 1],\n",
       "       [0, 0, 1],\n",
       "       [0, 0, 1],\n",
       "       [0, 0, 1],\n",
       "       [0, 0, 1],\n",
       "       [0, 0, 1],\n",
       "       [0, 0, 1],\n",
       "       [0, 0, 1],\n",
       "       [0, 0, 1],\n",
       "       [0, 0, 1],\n",
       "       [0, 0, 1],\n",
       "       [0, 0, 1],\n",
       "       [0, 0, 1],\n",
       "       [0, 0, 1],\n",
       "       [0, 0, 1],\n",
       "       [0, 0, 1],\n",
       "       [0, 0, 1],\n",
       "       [0, 0, 1],\n",
       "       [0, 0, 1],\n",
       "       [0, 0, 1],\n",
       "       [0, 0, 1],\n",
       "       [0, 0, 1],\n",
       "       [0, 0, 1],\n",
       "       [0, 0, 1],\n",
       "       [0, 0, 1],\n",
       "       [0, 0, 1],\n",
       "       [0, 0, 1],\n",
       "       [0, 0, 1],\n",
       "       [0, 0, 1],\n",
       "       [0, 0, 1],\n",
       "       [0, 0, 1],\n",
       "       [0, 0, 1],\n",
       "       [0, 0, 1],\n",
       "       [0, 0, 1],\n",
       "       [0, 0, 1],\n",
       "       [0, 0, 1],\n",
       "       [0, 0, 1],\n",
       "       [0, 0, 1],\n",
       "       [0, 0, 1],\n",
       "       [0, 0, 1],\n",
       "       [0, 0, 1],\n",
       "       [0, 0, 1],\n",
       "       [0, 0, 1]])"
      ]
     },
     "execution_count": 42,
     "metadata": {},
     "output_type": "execute_result"
    }
   ],
   "source": [
    "y_encoded"
   ]
  },
  {
   "cell_type": "code",
   "execution_count": null,
   "metadata": {},
   "outputs": [],
   "source": []
  }
 ],
 "metadata": {
  "kernelspec": {
   "display_name": "Python 3",
   "language": "python",
   "name": "python3"
  },
  "language_info": {
   "codemirror_mode": {
    "name": "ipython",
    "version": 3
   },
   "file_extension": ".py",
   "mimetype": "text/x-python",
   "name": "python",
   "nbconvert_exporter": "python",
   "pygments_lexer": "ipython3",
   "version": "3.7.4"
  }
 },
 "nbformat": 4,
 "nbformat_minor": 2
}
