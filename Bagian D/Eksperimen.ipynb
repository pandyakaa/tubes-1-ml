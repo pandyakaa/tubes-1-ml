{
 "cells": [
  {
   "cell_type": "markdown",
   "metadata": {},
   "source": [
    "# Tugas Besar 1 - Bagian D \n",
    "\n",
    "## Kelompok XX K- 3 \n",
    "1. Pandyaka Aptanagi - 13517003\n",
    "2. I Putu Gede Wirasuta - 13517015\n",
    "3. M. Rifky I. Bariansya - 13517081\n",
    "4. Gardahadi - 13517144"
   ]
  },
  {
   "cell_type": "markdown",
   "metadata": {},
   "source": [
    "## I. Import Library Standar dan Classifier"
   ]
  },
  {
   "cell_type": "code",
   "execution_count": 1,
   "metadata": {},
   "outputs": [],
   "source": [
    "#Import Standard Libraries\n",
    "import pandas as pd\n",
    "import matplotlib.pyplot as plt\n",
    "\n",
    "import numpy as np\n",
    "%matplotlib inline"
   ]
  },
  {
   "cell_type": "code",
   "execution_count": 2,
   "metadata": {},
   "outputs": [],
   "source": [
    "# Import DTL Classifier\n",
    "from clf.mlp import MyMlp\n",
    "from clf.c45 import C45\n",
    "from clf.utils import read_csv, scale_data\n",
    "from clf.c45_numeric_handler import process_numeric"
   ]
  },
  {
   "cell_type": "code",
   "execution_count": 3,
   "metadata": {},
   "outputs": [],
   "source": [
    "# Import ANN"
   ]
  },
  {
   "cell_type": "code",
   "execution_count": null,
   "metadata": {},
   "outputs": [],
   "source": []
  },
  {
   "cell_type": "markdown",
   "metadata": {},
   "source": [
    "## II. Mendefinisikan Fungsi Bantuan "
   ]
  },
  {
   "cell_type": "code",
   "execution_count": 4,
   "metadata": {},
   "outputs": [],
   "source": [
    "#Function Import Data\n",
    "\n",
    "def import_data(path, sep=',',dropna=True, drop_duplicates=True):\n",
    "    data = pd.read_csv(path, sep)\n",
    "    print(\"Import Berhasil\")\n",
    "    print(\"Banyaknya baris dan kolom\", data.shape)\n",
    "    print(\"Banyaknya data duplicate\", data.duplicated().sum())\n",
    "    data = data.drop_duplicates() if drop_duplicates else data\n",
    "    data = data.dropna() if dropna else data\n",
    "#     print(data.head())\n",
    "    return data"
   ]
  },
  {
   "cell_type": "code",
   "execution_count": 14,
   "metadata": {},
   "outputs": [],
   "source": [
    "#Function to Extract Input and Output\n",
    "\n",
    "def extract_feature_target(data, output):\n",
    "    y = data[output]\n",
    "    x = data.drop(output, axis=1)\n",
    "    #print(x.columns) #optional\n",
    "    #print(y.head()) #optional\n",
    "    return x,y"
   ]
  },
  {
   "cell_type": "code",
   "execution_count": 6,
   "metadata": {},
   "outputs": [],
   "source": [
    "#function to split train test data (default test_size = 0.4)\n",
    "from sklearn.model_selection import train_test_split\n",
    "\n",
    "def train_test_data(x,y, _test_size = 0.4): \n",
    "    x_train, x_test, y_train, y_test = train_test_split(x,y, test_size =_test_size,\n",
    "                                                        random_state =100)\n",
    "    print(\"Training Data :\")\n",
    "    print(x_train.head(), y_train.head()) #\n",
    "    print(\" Testing Data :\" )\n",
    "    print(x_test.head(), y_test.head()) #\n",
    "    return x_train, x_test, y_train, y_test"
   ]
  },
  {
   "cell_type": "code",
   "execution_count": 7,
   "metadata": {},
   "outputs": [],
   "source": [
    "#Function to evaluate score\n",
    "from sklearn.metrics import accuracy_score\n",
    "\n",
    "def scoring(model, x_test, y_test) :\n",
    "    y_predict = model.predict(x_test)\n",
    "    print(\"Model Score based on test data\")\n",
    "    print(accuracy_score(y_test, y_predict))\n"
   ]
  },
  {
   "cell_type": "code",
   "execution_count": null,
   "metadata": {},
   "outputs": [],
   "source": []
  },
  {
   "cell_type": "code",
   "execution_count": null,
   "metadata": {},
   "outputs": [],
   "source": []
  },
  {
   "cell_type": "code",
   "execution_count": null,
   "metadata": {},
   "outputs": [],
   "source": []
  },
  {
   "cell_type": "markdown",
   "metadata": {},
   "source": [
    "# Bagian 1 : Eksperimen Skema Hold-out Validation"
   ]
  },
  {
   "cell_type": "markdown",
   "metadata": {},
   "source": [
    "## 1.1 Pembelajaran DTL"
   ]
  },
  {
   "cell_type": "markdown",
   "metadata": {},
   "source": [
    "## 1.2 Pembelajaran ANN"
   ]
  },
  {
   "cell_type": "markdown",
   "metadata": {},
   "source": [
    "# Bagian 2 : Eksperimen Skema 10-fold Cross Validation"
   ]
  },
  {
   "cell_type": "markdown",
   "metadata": {},
   "source": [
    "## 2.1 Pembelajaran DTL"
   ]
  },
  {
   "cell_type": "markdown",
   "metadata": {},
   "source": [
    "## 2.2 Pembelajaran ANN"
   ]
  },
  {
   "cell_type": "markdown",
   "metadata": {},
   "source": [
    "# Bagian 3 : Penyimpanan dan Pemanggilan Model"
   ]
  },
  {
   "cell_type": "markdown",
   "metadata": {},
   "source": [
    "## 3.1 Menyimpan Model dalam file .txt"
   ]
  },
  {
   "cell_type": "markdown",
   "metadata": {},
   "source": [
    "## 3.2 Memanggil Model "
   ]
  },
  {
   "cell_type": "markdown",
   "metadata": {},
   "source": [
    "# Bagian 4 : Analisis Eksperimen Bagian 1 & 2"
   ]
  },
  {
   "cell_type": "code",
   "execution_count": null,
   "metadata": {},
   "outputs": [],
   "source": []
  },
  {
   "cell_type": "markdown",
   "metadata": {},
   "source": [
    "# Testing Cross Validate"
   ]
  },
  {
   "cell_type": "code",
   "execution_count": 8,
   "metadata": {},
   "outputs": [
    {
     "name": "stdout",
     "output_type": "stream",
     "text": [
      "Import Berhasil\n",
      "Banyaknya baris dan kolom (150, 5)\n",
      "Banyaknya data duplicate 3\n"
     ]
    }
   ],
   "source": [
    "df = import_data('../Bagian C/datasets/iris.csv',',')"
   ]
  },
  {
   "cell_type": "code",
   "execution_count": 11,
   "metadata": {},
   "outputs": [
    {
     "data": {
      "text/html": [
       "<div>\n",
       "<style scoped>\n",
       "    .dataframe tbody tr th:only-of-type {\n",
       "        vertical-align: middle;\n",
       "    }\n",
       "\n",
       "    .dataframe tbody tr th {\n",
       "        vertical-align: top;\n",
       "    }\n",
       "\n",
       "    .dataframe thead th {\n",
       "        text-align: right;\n",
       "    }\n",
       "</style>\n",
       "<table border=\"1\" class=\"dataframe\">\n",
       "  <thead>\n",
       "    <tr style=\"text-align: right;\">\n",
       "      <th></th>\n",
       "      <th>sepal_length</th>\n",
       "      <th>sepal_width</th>\n",
       "      <th>petal_length</th>\n",
       "      <th>petal_width</th>\n",
       "      <th>species</th>\n",
       "    </tr>\n",
       "  </thead>\n",
       "  <tbody>\n",
       "    <tr>\n",
       "      <td>0</td>\n",
       "      <td>5.1</td>\n",
       "      <td>3.5</td>\n",
       "      <td>1.4</td>\n",
       "      <td>0.2</td>\n",
       "      <td>setosa</td>\n",
       "    </tr>\n",
       "    <tr>\n",
       "      <td>1</td>\n",
       "      <td>4.9</td>\n",
       "      <td>3.0</td>\n",
       "      <td>1.4</td>\n",
       "      <td>0.2</td>\n",
       "      <td>setosa</td>\n",
       "    </tr>\n",
       "    <tr>\n",
       "      <td>2</td>\n",
       "      <td>4.7</td>\n",
       "      <td>3.2</td>\n",
       "      <td>1.3</td>\n",
       "      <td>0.2</td>\n",
       "      <td>setosa</td>\n",
       "    </tr>\n",
       "    <tr>\n",
       "      <td>3</td>\n",
       "      <td>4.6</td>\n",
       "      <td>3.1</td>\n",
       "      <td>1.5</td>\n",
       "      <td>0.2</td>\n",
       "      <td>setosa</td>\n",
       "    </tr>\n",
       "    <tr>\n",
       "      <td>4</td>\n",
       "      <td>5.0</td>\n",
       "      <td>3.6</td>\n",
       "      <td>1.4</td>\n",
       "      <td>0.2</td>\n",
       "      <td>setosa</td>\n",
       "    </tr>\n",
       "  </tbody>\n",
       "</table>\n",
       "</div>"
      ],
      "text/plain": [
       "   sepal_length   sepal_width   petal_length   petal_width  species\n",
       "0           5.1           3.5            1.4           0.2   setosa\n",
       "1           4.9           3.0            1.4           0.2   setosa\n",
       "2           4.7           3.2            1.3           0.2   setosa\n",
       "3           4.6           3.1            1.5           0.2   setosa\n",
       "4           5.0           3.6            1.4           0.2   setosa"
      ]
     },
     "execution_count": 11,
     "metadata": {},
     "output_type": "execute_result"
    }
   ],
   "source": [
    "df.head()"
   ]
  },
  {
   "cell_type": "code",
   "execution_count": 15,
   "metadata": {},
   "outputs": [],
   "source": [
    "x, y = extract_feature_target(df, ' species')"
   ]
  },
  {
   "cell_type": "code",
   "execution_count": 17,
   "metadata": {},
   "outputs": [],
   "source": [
    "from clf.mlp import MyMlp\n",
    "from clf.c45 import C45\n",
    "from clf.utils import read_csv, scale_data\n",
    "from clf.c45_numeric_handler import process_numeric"
   ]
  },
  {
   "cell_type": "code",
   "execution_count": 19,
   "metadata": {},
   "outputs": [],
   "source": [
    "myclf = MyMlp(input_layer, hidden_layer, output_layer, epochs=2500, learning_rate=0.02)\n",
    "myc45 = C45()\n",
    "myc45.label = list(x.columns)"
   ]
  },
  {
   "cell_type": "code",
   "execution_count": 31,
   "metadata": {},
   "outputs": [
    {
     "name": "stdout",
     "output_type": "stream",
     "text": [
      "fit_time  mean  0.007890748977661132\n",
      "fit_time  std  0.002112867026693262\n",
      "score_time  mean  0.0005492210388183594\n",
      "score_time  std  0.00010013155701126581\n",
      "test_score  mean  0.3820689655172414\n",
      "test_score  std  0.3811641221186584\n",
      "{'fit_time': array([0.01111913, 0.00970721, 0.0064857 , 0.00609159, 0.00605011]), 'score_time': array([0.00049376, 0.00054407, 0.00074387, 0.00049114, 0.00047326]), 'test_score': array([1.        , 0.6       , 0.        , 0.31034483, 0.        ])}\n"
     ]
    }
   ],
   "source": [
    "from sklearn.model_selection import cross_validate\n",
    "\n",
    "model = Pipeline([\n",
    "    ('clf', myc45) #step2 - classifier (default : LogisticRegression )\n",
    "])\n",
    "\n",
    "x_temp = process_numeric(np.vectorize(str)(x.values), y.values)\n",
    "scores = cross_validate(model, x_temp, y.values, cv=5, scoring='accuracy')\n",
    "for key, values in scores.items():\n",
    "        print(key,' mean ', values.mean())\n",
    "        print(key,' std ', values.std())\n",
    "print(scores)"
   ]
  },
  {
   "cell_type": "code",
   "execution_count": null,
   "metadata": {},
   "outputs": [],
   "source": []
  }
 ],
 "metadata": {
  "anaconda-cloud": {},
  "kernelspec": {
   "display_name": "Python 3",
   "language": "python",
   "name": "python3"
  },
  "language_info": {
   "codemirror_mode": {
    "name": "ipython",
    "version": 3
   },
   "file_extension": ".py",
   "mimetype": "text/x-python",
   "name": "python",
   "nbconvert_exporter": "python",
   "pygments_lexer": "ipython3",
   "version": "3.7.4"
  }
 },
 "nbformat": 4,
 "nbformat_minor": 2
}
